{
 "cells": [
  {
   "cell_type": "markdown",
   "metadata": {},
   "source": [
    "# lhorizon example 1: where was GALEX in May 2003?\n",
    "\n",
    "Imagine that you are examining a portion of the observational data record of the GALEX space telescope from May 2003 and you realize that there is an anomaly that might be explicable by a barycentric time offset. A SPK SPICE kernel for GALEX may exist somewhere, but you do not know where. Horizons contains detailed information about the positions of many orbital and ground intrument platforms, and ```lhorizon``` can help you quickly figure out where GALEX was during this period.\n",
    "\n",
    "This is a relatively short time period at relatively coarse resolution. If you realize that you need higher resolution or if you'd like to do larger queries -- ones with more than about 70K rows -- take a look at the bulk query functions in mars_sun_angle.ipynb."
   ]
  },
  {
   "cell_type": "code",
   "execution_count": null,
   "metadata": {},
   "outputs": [],
   "source": [
    "# run these imports if you'd like the code to function\n",
    "\n",
    "from lhorizon import LHorizon\n",
    "from lhorizon.lhorizon_utils import utc_to_tdb"
   ]
  },
  {
   "cell_type": "code",
   "execution_count": null,
   "metadata": {
    "pycharm": {
     "name": "#%%\n"
    }
   },
   "outputs": [],
   "source": [
    "# horizons code for the SSB\n",
    "solar_system_barycenter = '500@0'\n",
    "coordinate_origin = solar_system_barycenter\n",
    "# horizons knows the name \"GALEX\". Its Horizons numeric id, -127783, could also be used.\n",
    "galex_horizons_id = \"GALEX\"\n",
    "target_body_id = galex_horizons_id\n",
    "\n",
    "# Time units are not consistent across different types of Horizons queries. in particular, \n",
    "# times for vectors queries are in TDB, which in this case is about 64 seconds later than UTC. \n",
    "# lhorizon.lhorizon_utils provides a function to convert from UTC to TDB. it works for dates later \n",
    "# than 1972. for dates earlier than 1972, use spiceypy or astropy.time.\n",
    "start = '2003-05-01T00:00:00'\n",
    "stop = '2003-05-15T01:00:00'\n",
    "step = \"5m\"\n",
    "start_tdb = utc_to_tdb(start).isoformat()\n",
    "stop_tdb = utc_to_tdb(stop).isoformat()"
   ]
  },
  {
   "cell_type": "code",
   "execution_count": null,
   "metadata": {},
   "outputs": [],
   "source": [
    "# make a LHorizon with these values. \n",
    "galex_icrf = LHorizon(\n",
    "    galex_horizons_id,\n",
    "    coordinate_origin,\n",
    "    epochs = {\n",
    "        'start': start_tdb,\n",
    "        'stop': stop_tdb,\n",
    "        'step': step\n",
    "    },\n",
    "    query_type='VECTORS'\n",
    ")\n",
    "# fetch these data and concatenate them into a pandas dataframe.\n",
    "# the LHorizon.table() method grabs a selection of columns from\n",
    "# the Horizons response, regularizes units to meters and \n",
    "# seconds, and makes some column names clearer or more tractable. \n",
    "# if you want the full, unvarnished collection of values returned by Horizons\n",
    "# with no modifications other than whitespace removal, \n",
    "# use the LHorizons.dataframe() method instead.\n",
    "vector_table = galex_icrf.table()\n",
    "\n",
    "# note that the coordinate system in this particular query is ICRF \n",
    "# of the most conventional kind -- measured from the solar system barycenter,\n",
    "# geometric states uncorrected for light time or stellar aberration.\n",
    "\n",
    "# columns are:\n",
    "# time_tdb: time -- still in the TDB scale\n",
    "# x, y, z: components of position vector in m\n",
    "# vx, vy, vz: components of velocity vector in m/s\n",
    "# dist: distance in m\n",
    "# velocity: velocity in m/s\n",
    "vector_table"
   ]
  },
  {
   "cell_type": "code",
   "execution_count": null,
   "metadata": {},
   "outputs": [],
   "source": [
    "# since this is a pandas dataframe, it can be easily manipulated in Python. If you'd rather work with it\n",
    "# in some other way, it can also be easily written to CSV. \n",
    "vector_table.to_csv(\"vector_table \" + start + \" to \" + stop + \".csv\", index=None)"
   ]
  }
 ],
 "metadata": {
  "kernelspec": {
   "display_name": "Python 3",
   "language": "python",
   "name": "python3"
  },
  "language_info": {
   "codemirror_mode": {
    "name": "ipython",
    "version": 3
   },
   "file_extension": ".py",
   "mimetype": "text/x-python",
   "name": "python",
   "nbconvert_exporter": "python",
   "pygments_lexer": "ipython3",
   "version": "3.9.5"
  }
 },
 "nbformat": 4,
 "nbformat_minor": 1
}
