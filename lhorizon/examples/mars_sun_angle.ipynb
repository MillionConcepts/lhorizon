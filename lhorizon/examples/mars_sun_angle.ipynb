{
 "cells": [
  {
   "cell_type": "code",
   "execution_count": null,
   "metadata": {},
   "outputs": [],
   "source": [
    "import pandas as pd\n",
    "\n",
    "from lhorizon.handlers import query_all_lhorizons, construct_lhorizon_list"
   ]
  },
  {
   "cell_type": "markdown",
   "metadata": {},
   "source": [
    "problem: what will the approximate sun angle be at an unimportant spot on Mars over a period of several years, at five-minute intervals?"
   ]
  },
  {
   "cell_type": "code",
   "execution_count": null,
   "metadata": {
    "pycharm": {
     "name": "#%%\n"
    }
   },
   "outputs": [],
   "source": [
    "# defining position, time span, and so on\n",
    "\n",
    "# what is the body center of the observing location?\n",
    "mars_horizons_id = '499'\n",
    "\n",
    "# what is the topocentric location relative to that body center?\n",
    "observer_latitude = 18.4\n",
    "# note that Horizons always treats east-longitude as negative for Mars and \n",
    "# other prograde bodies *except* the Earth, Moon, and Sun\n",
    "observer_longitude = -77.5\n",
    "observer_elevation = 0\n",
    "\n",
    "# what is the observer looking at?\n",
    "# (this can also target topocentric coordinates on the target body using the same syntax,\n",
    "# but obviously this is not important in this particular application.)\n",
    "sun_horizons_id = '10'\n",
    "\n",
    "# start time, stop time, and observation interval\n",
    "start = '2020-01-01T00:00:00'\n",
    "stop = '2023-02-01T00:00:00'\n",
    "# this can be 's', 'm', 'h', 'd', 'y' for fixed time intervals;\n",
    "# alternatively, just an integer will give a number of intervals\n",
    "# equal to (start time - stop_time) / step.\n",
    "step = \"5m\"\n",
    "\n",
    "# the only quantities we care about are apparent altitude and azimuth. Horizons will need\n",
    "# to return less data, and the query will go faster, if we ask only for these. see below for a full\n",
    "# list of observer-table quantity codes.\n",
    "quantities = \"4\""
   ]
  },
  {
   "cell_type": "code",
   "execution_count": null,
   "metadata": {
    "pycharm": {
     "name": "#%%\n"
    }
   },
   "outputs": [],
   "source": [
    "# make a bunch of horizons requests at palatable-to-horizons sizes.\n",
    "lhorizons = construct_lhorizon_list(\n",
    "    target=sun_horizons_id,\n",
    "    origin={\n",
    "        'lon': observer_longitude,\n",
    "        'lat': observer_latitude,\n",
    "        'elevation': observer_elevation,\n",
    "        'body': mars_horizons_id\n",
    "    },\n",
    "    epochs = {\n",
    "        'start': start,\n",
    "        'stop': stop,\n",
    "        'step': step\n",
    "    },\n",
    "    query_options={'quantities': quantities},\n",
    "    chunksize=85000\n",
    ")"
   ]
  },
  {
   "cell_type": "code",
   "execution_count": null,
   "metadata": {
    "scrolled": true
   },
   "outputs": [],
   "source": [
    "%%time\n",
    "# this is only about 8 MB of data, but it requires extensive backend calculations to generate\n",
    "# and Horizons is sometimes bandwidth-limited. Depending on your connection and how Horizons \n",
    "# is feeling on an individual day, it could take between 30 seconds and 15 minutes to retrieve it all.\n",
    "query_all_lhorizons(lhorizons)"
   ]
  },
  {
   "cell_type": "code",
   "execution_count": null,
   "metadata": {},
   "outputs": [],
   "source": [
    "# process all these data as CSV and concatenate them into a single pandas dataframe\n",
    "sun_positions = pd.concat(\n",
    "    [lhorizon.table() for lhorizon in lhorizons]\n",
    ")\n",
    "# horizons bulk queries don't work well with the 'only when object is visible'\n",
    "# flags, so we handle it here\n",
    "solar_angle_table = sun_positions.loc[sun_positions['alt'] > 0].reset_index(drop=True)\n",
    "solar_angle_table"
   ]
  },
  {
   "cell_type": "code",
   "execution_count": null,
   "metadata": {},
   "outputs": [],
   "source": [
    "# write out to csv\n",
    "solar_angle_table.to_csv(\n",
    "    \"solar_angle_table \" + start + \" to \" + stop + \".csv\",\n",
    "    index=None\n",
    ")"
   ]
  },
  {
   "cell_type": "code",
   "execution_count": null,
   "metadata": {},
   "outputs": [],
   "source": [
    "# footnote: OBSERVER table quantity codes\n",
    "\n",
    "#   1. Astrometric RA & DEC  16. Sub Sun Pos. Ang & Dis *31. Obs eclip. lon & lat\n",
    "#  *2. Apparent RA & DEC     17. N. Pole Pos. Ang & Dis  32. North pole RA & DEC\n",
    "#   3.   Rates; RA & DEC     18. Helio eclip. lon & lat  33. Galactic latitude\n",
    "#  *4. Apparent AZ & EL      19. Helio range & rng rate  34. Local app. SOLAR time\n",
    "#   5.   Rates; AZ & EL      20. Obsrv range & rng rate  35. Earth -> site lt-time\n",
    "#   6. Sat. X & Y, pos. ang  21. One-Way Light-Time     >36. RA & DEC uncertainty\n",
    "#   7. Local app. sid. time  22. Speed wrt Sun & obsrvr >37. POS error ellipse\n",
    "#   8. Airmass               23. Sun-Obs-Targ ELONG ang >38. POS uncertainty (RSS)\n",
    "#   9. Vis mag. & surf brt.  24. Sun-Targ-Obs~PHASE ang >39. Range & rng-rate sig.\n",
    "#  10. Illuminated fraction  25. Targ-Obsrv-Moon/Illum% >40. Doppler/delay sigmas\n",
    "#  11. Defect of illumin.    26. Obs-Primary-Targ angle  41. True anomaly angle\n",
    "#  12. Sat. angle separ/vis  27. Radial & -vel posn.ang *42. Local app. hour angle\n",
    "#  14. Obs sub-lon & sub-lat 29. Constellation name      43. PHASE angle & bisect\n",
    "#  15. Sun sub-lon & sub-lat 30. Delta-T (TDB - UT)"
   ]
  }
 ],
 "metadata": {
  "kernelspec": {
   "display_name": "Python 3",
   "language": "python",
   "name": "python3"
  },
  "language_info": {
   "codemirror_mode": {
    "name": "ipython",
    "version": 3
   },
   "file_extension": ".py",
   "mimetype": "text/x-python",
   "name": "python",
   "nbconvert_exporter": "python",
   "pygments_lexer": "ipython3",
   "version": "3.9.5"
  }
 },
 "nbformat": 4,
 "nbformat_minor": 1
}
