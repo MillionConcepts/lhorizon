{
 "cells": [
  {
   "cell_type": "code",
   "execution_count": null,
   "id": "66e8c1d8",
   "metadata": {},
   "outputs": [],
   "source": [
    "import numpy as np\n",
    "import pandas as pd\n",
    "\n",
    "from lhorizon import LHorizon\n",
    "from lhorizon.constants import LUNAR_RADIUS\n",
    "from lhorizon.kernels import load_metakernel\n",
    "from lhorizon.lhorizon_utils import (\n",
    "    make_raveled_meshgrid\n",
    ")\n",
    "from lhorizon.target import Targeter\n",
    "\n",
    "load_metakernel()\n",
    "from lhorizon.handlers import list_majorbodies, list_sites"
   ]
  },
  {
   "cell_type": "markdown",
   "id": "4e8dcad4",
   "metadata": {},
   "source": [
    "### part 1: sequential targeting\n",
    "\n",
    "imagine that you are examining a series of Earth-based radiofrequency observations of the Moon taken from Arecibo Observatory in 2019. For each of these observations, you have a precise ra/dec pointing in Arecibo-topocentric ICRF coordinates (earth mean equator and equinox of J2000, often called \"J2000\" for historical reasons) but would like to determine the intercept point of the telescope beam on the Moon in selenodetic coordinates. Horizons and LHorizon can help you determine this."
   ]
  },
  {
   "cell_type": "code",
   "execution_count": null,
   "id": "ec39f4ff",
   "metadata": {},
   "outputs": [],
   "source": [
    "# load example data from a CSV file\n",
    "pointings = pd.read_csv('target_example_ephemeris.csv')\n",
    "# to take these data, Arecibo swept its receiver back and forth across the Moon in a zigzag pattern.\n",
    "# since there are ~14K data points, for simplicity, we'll just examine one of these sweeps.\n",
    "pointings_2 = pointings.loc[pointings['scan_ix'] == 2].reset_index(drop=True)\n",
    "# we round this to the nearest hundredth of a second to make it easy to align with Horizons \n",
    "# (milliseconds are probably not important in this application)\n",
    "pointings_2.loc[:, 'time'] = pointings_2['time'].str.slice(None, -4)\n",
    "pointings_2 "
   ]
  },
  {
   "cell_type": "code",
   "execution_count": null,
   "id": "8bb6ccf5",
   "metadata": {},
   "outputs": [],
   "source": [
    "# these pointings are separated in time regularly, so we can assemble \n",
    "# a Horizons query using a range of epochs (which Horizons tends to prefer)\n",
    "epochs = {\n",
    "    'start': pointings_2['time'].values[0],\n",
    "    'stop': pointings_2['time'].values[-1],\n",
    "    # unitless step value asks Horizons to divide the time range equally\n",
    "    'step': len(pointings_2.index) - 1\n",
    "}\n",
    "\n",
    "# we need to query Horizons about the Moon with coordinate origin of Arecibo.\n",
    "# for many bodies, you can just use the common body name, but both \"Moon\" and \"Luna\"\n",
    "# are considered ambiguous, and using a name doesn't work for most Earth sites.\n",
    "# fortunately, lhorizon offers some simple tools for finding Horizons id codes.\n",
    "# it retrieves these lists directly from Horizons, so these lists should always be up to date.\n",
    "\n",
    "# first, major bodies, like the Moon:\n",
    "majorbodies = list_majorbodies()\n",
    "majorbodies.loc[majorbodies['name'].str.contains(\"Moon\")]"
   ]
  },
  {
   "cell_type": "code",
   "execution_count": null,
   "id": "a35802d8",
   "metadata": {},
   "outputs": [],
   "source": [
    "# next, Earth sites, like Arecibo.\n",
    "# notes: \n",
    "# 1. Horizons typically follows Minor Planet Center observatory codes, but _not_ for radiotelescopes. \n",
    "# 2. if Horizons doesn't know a site, you can also specify it using a dict of topocentric coordinates.\n",
    "\n",
    "sites = list_sites()\n",
    "sites.loc[sites['Observatory Name'] == \"Arecibo\"]"
   ]
  },
  {
   "cell_type": "code",
   "execution_count": null,
   "id": "26b9131b",
   "metadata": {},
   "outputs": [],
   "source": [
    "# now we can assemble a LHorizon and query it for a reference lunar ephemeris. depending on \n",
    "# Horizons' mood, this might take anywhere from 5 seconds to a couple of minutes.\n",
    "april_moon = LHorizon(target=301, origin=-1, epochs=epochs)\n",
    "april_moon.query()"
   ]
  },
  {
   "cell_type": "code",
   "execution_count": null,
   "id": "57643abd",
   "metadata": {},
   "outputs": [],
   "source": [
    "# this lunar ephemeris can then be used to assemble a Targeter object.\n",
    "# the Moon is typically treated as almost perfectly spherical, so we can use \n",
    "# a simple ray-sphere equation to help us find lunar targets for this observation.\n",
    "\n",
    "april_moon_targeter = Targeter(april_moon, target_radius=LUNAR_RADIUS)"
   ]
  },
  {
   "cell_type": "code",
   "execution_count": null,
   "id": "86ea740e",
   "metadata": {},
   "outputs": [],
   "source": [
    "# we can now use this Targeter to solve the ray-sphere intersection problem between the Moon and the\n",
    "# Arecibo boresight pointing.\n",
    "april_moon_targeter.find_targets(pointings_2)\n",
    "# note that many of these targets will be NaN-valued -- this is because during a lot of the sweep, \n",
    "# the boresight isn't on the moon.\n",
    "april_moon_targeter.ephemerides['topocentric'].dropna()"
   ]
  },
  {
   "cell_type": "code",
   "execution_count": null,
   "id": "265f9f1a",
   "metadata": {
    "scrolled": false
   },
   "outputs": [],
   "source": [
    "# these intersection points are still expressed in the Arecibo-topocentric 'j2000' frame.\n",
    "# the Targeter object can now use SPICE functions to translate them to a selenodetic frame --\n",
    "# in this case, we'll use MOON_PA (note that you may need to provide additional SPICE kernels for \n",
    "# some frames, but this one is completely handled by built-in kernels that can be loaded using\n",
    "# lhorizons' lhorizons.kernel.load_metakernel() function).\n",
    "april_moon_targeter.transform_targets_to_body_frame(\"j2000\", \"MOON_PA\")\n",
    "april_moon_targeter.ephemerides['bodycentric'].dropna()"
   ]
  },
  {
   "cell_type": "markdown",
   "id": "89cf7ea9",
   "metadata": {},
   "source": [
    "### part 2: grid targeting\n",
    "\n",
    "instead of 'long', temporally-separated targets, `lhorizons` can also be used to find 'wide', spatially-separated targets. this can be useful in cases where you have an image of a nearby planetary body with known FoV and boresight and would like to know to high resolution what pixels correspond to what coordinates in a bodycentric frame. (you can of course also assemble your own series of temporally-separated gridded bodycentric coordinates by performing grid targeting repeatedly in sequence)."
   ]
  },
  {
   "cell_type": "code",
   "execution_count": null,
   "id": "f77b0db0",
   "metadata": {},
   "outputs": [],
   "source": [
    "# imagine you have a photograph of the Moon. this photograph has been digitized as a 1024 x 1024 raster,\n",
    "# and has already been rotated into orientation along the RA-DEC directions in topocentric 'j2000'\n",
    "# and translated such that its apparent 'boresight' is at the sub-Earth point relative to the photographer.\n",
    "\n",
    "# this was taken at an unimportant place in the mountains above Palm Springs...\n",
    "origin = {\n",
    "    'lon': -116.68,\n",
    "    'lat': 33.82,\n",
    "    'elevation': 1.5\n",
    "}\n",
    "# ...on an otherwise unremarkable evening in 1978.\n",
    "instant = \"1978-06-12 03:33:33\"\n",
    "\n",
    "june_moon = Targeter(\n",
    "    LHorizon(\n",
    "        target=301,\n",
    "        origin=origin,\n",
    "        epochs=instant\n",
    "    ),\n",
    "    target_radius=LUNAR_RADIUS\n",
    ")\n",
    "grid_center = 512\n",
    "grid_len=1024\n",
    "fov = 10\n",
    "ra_center_value = june_moon.ephemerides['body']['ra_app_icrf'].values[0]\n",
    "dec_center_value = june_moon.ephemerides['body']['dec_app_icrf'].values[0]\n",
    "ra_axis = np.array([(ix - grid_center)*fov/grid_len for ix in np.arange(grid_len)])\n",
    "dec_axis = np.array([(ix - grid_center)*fov/grid_len for ix in np.arange(grid_len)])\n",
    "ra_axis += ra_center_value\n",
    "dec_axis += dec_center_value\n",
    "raveled = make_raveled_meshgrid((ra_axis, dec_axis), (\"ra\", \"dec\"))\n"
   ]
  },
  {
   "cell_type": "code",
   "execution_count": null,
   "id": "917f6f17",
   "metadata": {},
   "outputs": [],
   "source": [
    "# the find_target_grid function computes intersections across the entirety of the grid\n",
    "# at the specific instant expressed in the first Targeter epoch.\n",
    "june_moon.find_target_grid(raveled)\n",
    "# transforming each of these millionish coordinates to MOON_PA may take a minute.\n",
    "june_moon.transform_targets_to_body_frame(\"j2000\", \"MOON_PA\")\n",
    "june_moon.ephemerides['bodycentric'].dropna()"
   ]
  }
 ],
 "metadata": {
  "kernelspec": {
   "display_name": "Python 3",
   "language": "python",
   "name": "python3"
  },
  "language_info": {
   "codemirror_mode": {
    "name": "ipython",
    "version": 3
   },
   "file_extension": ".py",
   "mimetype": "text/x-python",
   "name": "python",
   "nbconvert_exporter": "python",
   "pygments_lexer": "ipython3",
   "version": "3.9.5"
  }
 },
 "nbformat": 4,
 "nbformat_minor": 5
}
